{
 "cells": [
  {
   "cell_type": "markdown",
   "metadata": {},
   "source": [
    "## Transition indicators (TIs)\n",
    "\n",
    "The present notebook aims to provide exemplary computation of TIs. Therefore, two systems are studied:\n",
    "1. a linear system (therefore incapable of undergoing critical transitions) to test the presence of false positives.\n",
    "2. a nonlinear system representing a 1D double-well that undergoes a critical transition to test true positives.\n",
    "\n",
    "First we load the packages and self-written functions:"
   ]
  },
  {
   "cell_type": "code",
   "execution_count": 1,
   "metadata": {},
   "outputs": [
    {
     "ename": "LoadError",
     "evalue": "LoadError: UndefVarError: CuArray not defined\nin expression starting at /home/jan/pCloudSync/PhD/Projects/StatisticalEWS/src/utils.jl:40",
     "output_type": "error",
     "traceback": [
      "LoadError: UndefVarError: CuArray not defined\n",
      "in expression starting at /home/jan/pCloudSync/PhD/Projects/StatisticalEWS/src/utils.jl:40\n",
      "\n",
      "Stacktrace:\n",
      " [1] top-level scope\n",
      "   @ ~/pCloudSync/PhD/Projects/StatisticalEWS/src/utils.jl:40"
     ]
    }
   ],
   "source": [
    "using DrWatson\n",
    "@quickactivate \"StatisticalEWS\"\n",
    "\n",
    "using BenchmarkTools, DifferentialEquations\n",
    "\n",
    "include(srcdir(\"utils.jl\"))\n",
    "include(srcdir(\"signal_processing.jl\"))\n",
    "include(srcdir(\"transition_indicators.jl\"))\n",
    "include(srcdir(\"significance_test.jl\"))"
   ]
  },
  {
   "cell_type": "markdown",
   "metadata": {},
   "source": [
    "#### Model definition\n",
    "\n",
    "We let both aforementioned models be forced by a user-defined function. In the present case, this is a simple linear drift such that the double-well model is driven out of its original equilibrium (i.e. experiences a transition)."
   ]
  },
  {
   "cell_type": "code",
   "execution_count": 2,
   "metadata": {},
   "outputs": [
    {
     "data": {
      "text/plain": [
       "forcing (generic function with 1 method)"
      ]
     },
     "metadata": {},
     "output_type": "display_data"
    }
   ],
   "source": [
    "# Deterministic part of linear system.\n",
    "function f_linear(dx, x, p, t)\n",
    "    dx[1] = p[\"λ\"] * (x[1] + 1) + forcing(p, t)\n",
    "end\n",
    "\n",
    "# Deterministic part of double-well system.\n",
    "function f_doublewell(dx, x, p, t)\n",
    "    dx[1] = -x[1]^3 + x[1] + forcing(p, t)\n",
    "end\n",
    "\n",
    "# Stochastic part of system for noise.\n",
    "function g_whitenoise(dx, x, p, t)\n",
    "    dx[1] = p[\"σ\"]\n",
    "end\n",
    "\n",
    "function forcing(p, t)\n",
    "    return p[\"α\"] * t\n",
    "end"
   ]
  },
  {
   "cell_type": "markdown",
   "metadata": {},
   "source": [
    "#### Perform simulation"
   ]
  },
  {
   "cell_type": "code",
   "execution_count": 3,
   "metadata": {},
   "outputs": [],
   "source": [
    "# Define time step, vector and span. IC set for equilibrium of both systems.\n",
    "dt = 1f-2\n",
    "t = collect(0f0:dt:10f0)\n",
    "tspan = extrema(t)\n",
    "x0 = [-1f0]\n",
    "\n",
    "pmodel = Dict(\"σ\" => .1f0, \"λ\" => -1f0, \"α\" => .1f0)\n",
    "models = [f_linear, f_doublewell]\n",
    "labels = [\"linear\", \"doublewell\"]\n",
    "nmodels = length(models)\n",
    "X = zeros(Float32, nmodels, length(t))\n",
    "\n",
    "for (f, lbl, i) in zip(models, labels, 1:nmodels)\n",
    "    prob = SDEProblem(f, g_whitenoise, x0, tspan, pmodel)\n",
    "    sol = solve(prob, EM(), dt=dt)\n",
    "    X[i, :] = vcat(sol.u...)\n",
    "end"
   ]
  },
  {
   "cell_type": "code",
   "execution_count": 4,
   "metadata": {},
   "outputs": [],
   "source": [
    "nrows, ncols = 3, nmodels\n",
    "fig = Figure( resolution = (1000, 700) )\n",
    "axs = [[Axis(\n",
    "    fig[i,j],\n",
    "    title = ( i==1 ? labels[j] : \" \"),\n",
    "    xlabel = ( i==nrows ? \"Time\" : \" \"),\n",
    "    ) for j in 1:ncols] for i in 1:nrows]\n",
    "\n",
    "[lines!(axs[1][i], t, X[i, :], label = \"data\") for i in 1:ncols]\n",
    "[ylims!(axs[1][i], (-1.2, 1.5)) for i in 1:ncols]\n",
    "fig"
   ]
  },
  {
   "cell_type": "markdown",
   "metadata": {},
   "source": [
    "#### Detrend time series\n",
    "\n",
    "In order to obtain the noise response, the time series is detrended. For this, several algorithms can be used:\n",
    "- Rolling average\n",
    "- Gaussian kernel\n",
    "- Butterworth filter\n",
    "- More to come..."
   ]
  },
  {
   "cell_type": "code",
   "execution_count": null,
   "metadata": {},
   "outputs": [],
   "source": [
    "T_smooth_wndw = 1f-1          # half-width for smoothing window .\n",
    "T_indctr_wndw = 5f-1          # half-width for computation of indicator.\n",
    "T_indctr_strd = 5f-1          # stride for computation of indicator.\n",
    "T_signif_wndw = 1f0           # half-width for computation of indicator significance.\n",
    "T_signif_strd = 1f0           # stride for computation of indicator significance.\n",
    "pwndw = get_windowing_params([dt, T_smooth_wndw, T_indctr_wndw, T_indctr_strd, T_signif_wndw, T_signif_strd])\n",
    "\n",
    "window = centered_window\n",
    "gettrend = gettrend_rollmean\n",
    "\n",
    "Xtrend = mapslices( x_ -> gettrend(x_, pwndw), X; dims=2 )\n",
    "ttrend = trim_wndw( t, pwndw.N_smooth_wndw )\n",
    "[lines!(axs[1][i], ttrend, Xtrend[i, :], label = \"trend\") for i in 1:nmodels]\n",
    "fig"
   ]
  },
  {
   "cell_type": "markdown",
   "metadata": {},
   "source": [
    "#### Compute exemplary TIs\n",
    "\n",
    "The most commonly used TIs are the variance and the coefficient of an AR1 regression of the residual. They are both expected to increase whenever a critical transition is near. Let's compute them and see what happens!"
   ]
  },
  {
   "cell_type": "code",
   "execution_count": null,
   "metadata": {},
   "outputs": [],
   "source": [
    "Xres_cpu = trim_wndw(X, pwndw.N_smooth_wndw) - Xtrend\n",
    "var_cpu = slide_estimator( Xres_cpu, pwndw.N_indctr_wndw, cpvar )\n",
    "ar1_cpu = slide_estimator( Xres_cpu, pwndw.N_indctr_wndw, ar1_whitenoise )\n",
    "tindctr = trim_wndw(ttrend, pwndw.N_indctr_wndw)\n",
    "\n",
    "[lines!(axs[2][j], tindctr, ar1_cpu[j, :], label = \"ar1_cpu\") for j in 1:ncols]\n",
    "[ylims!(axs[2][i], (-.1, 1)) for i in 1:ncols]\n",
    "[lines!(axs[3][j], tindctr, var_cpu[j, :], label = \"var_cpu\") for j in 1:ncols]\n",
    "fig"
   ]
  },
  {
   "cell_type": "markdown",
   "metadata": {},
   "source": [
    "## Statistical significance\n",
    "\n",
    "As we can observe in the previous plot, the critical transition of the double-well system in fact leads to an increase of the TIs!.. But such an increase also happens on the linear system, where no critical transition is possible. Meh. This means that along with true positives, we also want to get false ones.\n",
    "\n",
    "Our way out of producing false positives is to test statistical significance by:\n",
    "- Generating Fourier surrogates of the time series.\n",
    "- Compute the transition indicator on each of these surrogates.\n",
    "- Compute a metric that renders an increase of this indicator.\n",
    "- Compare the increase metric of our actual time series with the ones computed on the surrogates.\n",
    "\n",
    "The last step allows us to better investigate whether the increase of the TI is an artefact or not.\n",
    "\n",
    "#### Fourier surrogates\n",
    "\n",
    "Getting more data can be expensive (e.g. run a large model) or even barely possible (e.g. gather real-world data of the Earth system). However, (Fourier) surrogates of a given time series can be generated by:\n",
    "- computing the Fourier transform of the time series.\n",
    "- apply a random phase shift to each frequency.\n",
    "- compute the inverse transform of the shifted spectrum.\n",
    "\n",
    "To understand this with a simple example, one can imagine to have a time series x(t) given by:\n",
    "\n",
    "$$ x(t) = \\sin(t) + \\sin(2 \\pi \\, t + \\pi) $$\n",
    "\n",
    "A Fourier surrogate of this could be:\n",
    "\n",
    "$$ x_s(t) = \\sin(t + 0.4 \\, \\pi) + \\sin(2 \\pi \\, t + 2.7 \\, \\pi) $$\n",
    "\n",
    "To generate such surrogates, TransitionIndicators.jl provides a ready-to-use function:"
   ]
  },
  {
   "cell_type": "code",
   "execution_count": null,
   "metadata": {},
   "outputs": [],
   "source": [
    "ns = 10000\n",
    "Scpu = generate_stacked_fourier_surrogates(Xres_cpu, ns)"
   ]
  },
  {
   "cell_type": "markdown",
   "metadata": {},
   "source": [
    "On our present case, the number of states is quite low (nx = 2) and the computation time of the surrogate generation is acceptable. However, if TIs are to be computed for 2D fields, the resulting number of states scales exponentially and so does the run-time of the CPU routine for surrogate generation. To perform better, we can use a GPU version of the previous function by simply passing a CUDA array instead of a common julian matrix."
   ]
  },
  {
   "cell_type": "code",
   "execution_count": null,
   "metadata": {},
   "outputs": [],
   "source": [
    "Xres_gpu = CuArray( Xres_cpu )\n",
    "Sgpu = generate_stacked_fourier_surrogates(Xres_gpu, ns)"
   ]
  },
  {
   "cell_type": "markdown",
   "metadata": {},
   "source": [
    "Let's benchmark both to see if we got any improvement:"
   ]
  },
  {
   "cell_type": "code",
   "execution_count": null,
   "metadata": {},
   "outputs": [],
   "source": [
    "@benchmark generate_stacked_fourier_surrogates($Xres_cpu, $ns)"
   ]
  },
  {
   "cell_type": "code",
   "execution_count": null,
   "metadata": {},
   "outputs": [],
   "source": [
    "@benchmark generate_stacked_fourier_surrogates($Xres_gpu, $ns)"
   ]
  },
  {
   "cell_type": "markdown",
   "metadata": {},
   "source": [
    "Looks like a factor 100 of speed up!!!"
   ]
  },
  {
   "cell_type": "markdown",
   "metadata": {},
   "source": [
    "#### Compute surrogate TIs\n",
    "\n",
    "We can now perform the computation of the TIs by simply using:"
   ]
  },
  {
   "cell_type": "code",
   "execution_count": null,
   "metadata": {},
   "outputs": [],
   "source": [
    "# STI = slide_estimator( Scpu.S, pwndw.N_indctr_wndw, ar1_whitenoise )\n",
    "STI = slide_estimator( Scpu.S, pwndw, ar1_whitenoise, window )"
   ]
  },
  {
   "cell_type": "markdown",
   "metadata": {},
   "source": [
    "Ouch. 10 000 surrogates is quite substantial and implies large dimension of the 3D surrogate array which in turn (surprise, surprise) leads to large computational cost. Moreover, the present case handles only two time series but applications sometimes present thousands of them (e.g. resulting from a 100 x 100 2D field). We might need something that scales better!\n",
    "\n",
    "Instead of performing loops, we can transform the whole computation into a sparse array multiplication, which saves a lot of time:"
   ]
  },
  {
   "cell_type": "code",
   "execution_count": null,
   "metadata": {},
   "outputs": [],
   "source": [
    "STIsp = ar1_whitenoise( Scpu.S, pwndw )[:, pwndw.N_indctr_wndw+1:end-pwndw.N_indctr_wndw+1]"
   ]
  },
  {
   "cell_type": "markdown",
   "metadata": {},
   "source": [
    "#### GPU accelerated TI computation\n",
    "\n",
    "Some operations can be efficiently parallelised on GPUs. For high dimensionality, this can provide a significant speed-up, as e.g.:"
   ]
  },
  {
   "cell_type": "code",
   "execution_count": null,
   "metadata": {},
   "outputs": [],
   "source": [
    "ntest = 1000\n",
    "Acpu = rand(ntest, ntest)\n",
    "@benchmark $Acpu * $Acpu"
   ]
  },
  {
   "cell_type": "code",
   "execution_count": null,
   "metadata": {},
   "outputs": [],
   "source": [
    "Agpu = CUDA.rand(ntest, ntest)\n",
    "@benchmark $Agpu * $Agpu"
   ]
  },
  {
   "cell_type": "markdown",
   "metadata": {},
   "source": [
    "For some TIs, a GPU-accelerated version of the computation has been implemented. This is the case for:\n",
    "- Variance\n",
    "- Skewness\n",
    "- Kurtosis\n",
    "- AR1 coefficient with white noise assumption"
   ]
  },
  {
   "cell_type": "code",
   "execution_count": null,
   "metadata": {},
   "outputs": [],
   "source": [
    "Sgpu = CuArray(Scpu.S)"
   ]
  },
  {
   "cell_type": "code",
   "execution_count": null,
   "metadata": {},
   "outputs": [],
   "source": [
    "M = gpuMask(Sgpu, pwndw)"
   ]
  },
  {
   "cell_type": "code",
   "execution_count": null,
   "metadata": {},
   "outputs": [],
   "source": [
    "STIgpu = ar1_whitenoise(Sgpu, M)"
   ]
  },
  {
   "cell_type": "code",
   "execution_count": null,
   "metadata": {},
   "outputs": [],
   "source": [
    "STIgpucpu = Array(STIgpu)[:, pwndw.N_indctr_wndw+1:end-pwndw.N_indctr_wndw+1]"
   ]
  },
  {
   "cell_type": "code",
   "execution_count": null,
   "metadata": {},
   "outputs": [],
   "source": [
    "i = 2000\n",
    "fig_test = Figure()\n",
    "ax_test = Axis(fig_test[1,1])\n",
    "lines!(ax_test, STI[i, :])\n",
    "lines!(ax_test, STIsp[i, :])\n",
    "lines!(ax_test, STIgpucpu[i, :], linestyle = :dash)\n",
    "xlims!(ax_test, (400, 600))\n",
    "fig_test"
   ]
  },
  {
   "cell_type": "code",
   "execution_count": null,
   "metadata": {},
   "outputs": [],
   "source": [
    "sum( abs.(STIgpucpu - STI) .> 1f-1 ) # / length(STI)"
   ]
  },
  {
   "cell_type": "markdown",
   "metadata": {},
   "source": [
    "Let's benchmark our solutions, going from worst to best!"
   ]
  },
  {
   "cell_type": "code",
   "execution_count": null,
   "metadata": {},
   "outputs": [],
   "source": [
    "@benchmark slide_estimator( $Scpu.S, $pwndw.N_indctr_wndw, ar1_whitenoise )"
   ]
  },
  {
   "cell_type": "code",
   "execution_count": null,
   "metadata": {},
   "outputs": [],
   "source": [
    "@benchmark ar1_whitenoise( $Scpu.S, $pwndw )"
   ]
  },
  {
   "cell_type": "code",
   "execution_count": null,
   "metadata": {},
   "outputs": [],
   "source": [
    "@benchmark ar1_whitenoise( $Sgpu, $M )"
   ]
  },
  {
   "cell_type": "markdown",
   "metadata": {},
   "source": [
    "On the machine where the code was tested, the CPU function needs about 0.7 seconds to run, whereas the GPU only needs about 0.02 seconds. This leads to a roughly estimated speed-up of factor 35 - take that computational complexity! The absolute values are of course machine-specific and you might observe different ones."
   ]
  },
  {
   "cell_type": "code",
   "execution_count": null,
   "metadata": {},
   "outputs": [],
   "source": [
    "B = CuArray( reshape(1f0:980f0*2f0, 2, 980) )\n",
    "cumean(B, M, pwndw)"
   ]
  }
 ],
 "metadata": {
  "kernelspec": {
   "display_name": "Julia 1.8.2",
   "language": "julia",
   "name": "julia-1.8"
  },
  "language_info": {
   "file_extension": ".jl",
   "mimetype": "application/julia",
   "name": "julia",
   "version": "1.8.2"
  },
  "orig_nbformat": 4
 },
 "nbformat": 4,
 "nbformat_minor": 2
}
