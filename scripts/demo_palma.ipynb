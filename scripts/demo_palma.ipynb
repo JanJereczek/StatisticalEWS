{
 "cells": [
  {
   "cell_type": "markdown",
   "metadata": {},
   "source": [
    "## Transition indicators (TIs)\n",
    "\n",
    "The present notebook aims to provide exemplary computation of TIs. Therefore, two systems are studied:\n",
    "1. a linear system (therefore incapable of undergoing critical transitions) to test the presence of false positives.\n",
    "2. a nonlinear system representing a 1D double-well that undergoes a critical transition to test true positives.\n",
    "\n",
    "First we load the packages and self-written functions:"
   ]
  },
  {
   "cell_type": "code",
   "execution_count": 23,
   "metadata": {},
   "outputs": [
    {
     "data": {
      "text/plain": [
       "check_std_endpoint (generic function with 1 method)"
      ]
     },
     "metadata": {},
     "output_type": "display_data"
    }
   ],
   "source": [
    "using DrWatson\n",
    "@quickactivate \"StatisticalEWS\"\n",
    "\n",
    "using LinearAlgebra, BenchmarkTools, RollingFunctions\n",
    "using Statistics, StatsBase, Random, Distributions\n",
    "using CairoMakie, DifferentialEquations, FFTW, CUDA\n",
    "using SparseArrays\n",
    "\n",
    "include(srcdir(\"utils.jl\"))\n",
    "include(srcdir(\"transition_indicators.jl\"))\n",
    "include(srcdir(\"significance_test.jl\"))"
   ]
  },
  {
   "cell_type": "markdown",
   "metadata": {},
   "source": [
    "#### Model definition\n",
    "\n",
    "We let both aforementioned models be forced by a user-defined function. In the present case, this is a simple linear drift such that the double-well model is driven out of its original equilibrium (i.e. experiences a transition)."
   ]
  },
  {
   "cell_type": "code",
   "execution_count": 24,
   "metadata": {},
   "outputs": [
    {
     "data": {
      "text/plain": [
       "forcing (generic function with 1 method)"
      ]
     },
     "metadata": {},
     "output_type": "display_data"
    }
   ],
   "source": [
    "# Deterministic part of linear system.\n",
    "function f_linear(dx, x, p, t)\n",
    "    dx[1] = p[\"λ\"] * (x[1] + 1) + forcing(p, t)\n",
    "end\n",
    "\n",
    "# Deterministic part of double-well system.\n",
    "function f_doublewell(dx, x, p, t)\n",
    "    dx[1] = -x[1]^3 + x[1] + forcing(p, t)\n",
    "end\n",
    "\n",
    "# Stochastic part of system for noise.\n",
    "function g_whitenoise(dx, x, p, t)\n",
    "    dx[1] = p[\"σ\"]\n",
    "end\n",
    "\n",
    "function forcing(p, t)\n",
    "    return p[\"α\"] * t\n",
    "end"
   ]
  },
  {
   "cell_type": "markdown",
   "metadata": {},
   "source": [
    "#### Perform simulation"
   ]
  },
  {
   "cell_type": "code",
   "execution_count": 25,
   "metadata": {},
   "outputs": [],
   "source": [
    "# Define time step, vector and span. IC set for equilibrium of both systems.\n",
    "dt = 1f-2\n",
    "t = collect(0f0:dt:10f0)\n",
    "tspan = extrema(t)\n",
    "x0 = [-1f0]\n",
    "\n",
    "pmodel = Dict(\"σ\" => .1f0, \"λ\" => -1f0, \"α\" => .1f0)\n",
    "models = [f_linear, f_doublewell]\n",
    "labels = [\"linear\", \"doublewell\"]\n",
    "nmodels = length(models)\n",
    "X = zeros(Float32, nmodels, length(t))\n",
    "\n",
    "for (f, lbl, i) in zip(models, labels, 1:nmodels)\n",
    "    prob = SDEProblem(f, g_whitenoise, x0, tspan, pmodel)\n",
    "    sol = solve(prob, EM(), dt=dt)\n",
    "    X[i, :] = vcat(sol.u...)\n",
    "end"
   ]
  },
  {
   "cell_type": "code",
   "execution_count": 44,
   "metadata": {},
   "outputs": [
    {
     "data": {
      "text/plain": [
       "Scene (1000px, 1500px):\n",
       "  0 Plots\n",
       "  6 Child Scenes:\n",
       "    ├ Scene (1000px, 1500px)\n",
       "    ├ Scene (1000px, 1500px)\n",
       "    ├ Scene (1000px, 1500px)\n",
       "    ├ Scene (1000px, 1500px)\n",
       "    ├ Scene (1000px, 1500px)\n",
       "    └ Scene (1000px, 1500px)"
      ]
     },
     "metadata": {},
     "output_type": "display_data"
    }
   ],
   "source": [
    "nrows, ncols = 3, nmodels\n",
    "fig = Figure( resolution = (1000, 1500) )\n",
    "axs = [[Axis(\n",
    "    fig[i,j],\n",
    "    title = ( i==1 ? labels[j] : \" \"),\n",
    "    xlabel = ( i==nrows ? \"Time\" : \" \"),\n",
    "    ) for j in 1:ncols] for i in 1:nrows]\n",
    "\n",
    "[lines!(axs[1][i], t, X[i, :], label = \"data\") for i in 1:ncols]\n",
    "[ylims!(axs[1][i], (-1.2, 1.5)) for i in 1:ncols]\n",
    "fig"
   ]
  },
  {
   "cell_type": "markdown",
   "metadata": {},
   "source": [
    "#### Detrend time series\n",
    "\n",
    "In order to obtain the noise response, the time series is detrended. For this, several algorithms can be used:\n",
    "- Rolling average\n",
    "- Gaussian kernel\n",
    "- Butterworth filter\n",
    "- More to come..."
   ]
  },
  {
   "cell_type": "code",
   "execution_count": 27,
   "metadata": {},
   "outputs": [
    {
     "ename": "MethodError",
     "evalue": "MethodError: no method matching WindowingParams(::Float32, ::Float32, ::Float32, ::Float32, ::Float32, ::Int64, ::Int64, ::Int64, ::Int64)\nClosest candidates are:\n  WindowingParams(::Real, ::Real, ::Real, ::Real, ::Real, ::Real, ::Int64, ::Int64, ::Int64, !Matched::Int64, !Matched::Int64) at ~/pCloudSync/PhD/Projects/StatisticalEWS/src/utils.jl:5\n  WindowingParams(::Any, ::Any, ::Any, ::Any, ::Any, ::Any, ::Any, ::Any, ::Any, !Matched::Any, !Matched::Any) at ~/pCloudSync/PhD/Projects/StatisticalEWS/src/utils.jl:5",
     "output_type": "error",
     "traceback": [
      "MethodError: no method matching WindowingParams(::Float32, ::Float32, ::Float32, ::Float32, ::Float32, ::Int64, ::Int64, ::Int64, ::Int64)\n",
      "Closest candidates are:\n",
      "  WindowingParams(::Real, ::Real, ::Real, ::Real, ::Real, ::Real, ::Int64, ::Int64, ::Int64, !Matched::Int64, !Matched::Int64) at ~/pCloudSync/PhD/Projects/StatisticalEWS/src/utils.jl:5\n",
      "  WindowingParams(::Any, ::Any, ::Any, ::Any, ::Any, ::Any, ::Any, ::Any, ::Any, !Matched::Any, !Matched::Any) at ~/pCloudSync/PhD/Projects/StatisticalEWS/src/utils.jl:5\n",
      "\n",
      "Stacktrace:\n",
      " [1] top-level scope\n",
      "   @ ~/pCloudSync/PhD/Projects/StatisticalEWS/scripts/demo_palma.ipynb:7"
     ]
    }
   ],
   "source": [
    "T_smooth_wndw = 1f-1          # half-width for smoothing window .\n",
    "T_indctr_wndw = 5f-1          # half-width for computation of indicator.\n",
    "T_indctr_strd = 5f-1          # stride for computation of indicator.\n",
    "T_signif_wndw = 1f0           # half-width for computation of indicator significance.\n",
    "T_signif_strd = 1f0           # stride for computation of indicator significance.\n",
    "T = [dt, T_smooth_wndw, T_indctr_wndw, T_indctr_strd, T_signif_wndw, T_signif_strd]\n",
    "pwin = get_windowing_params(T)\n",
    "window = centered_window\n",
    "trend = gettrend_rollmean\n",
    "\n",
    "Xtrend = mapslices( x_ -> trend(x_, pwin.N_smooth_wndw), X; dims=2 )\n",
    "ttrend = trim_win( t, pwin.N_smooth_wndw )\n",
    "[lines!(axs[1][i], ttrend, Xtrend[i, :], label = \"trend\") for i in 1:nmodels]\n",
    "fig"
   ]
  },
  {
   "cell_type": "markdown",
   "metadata": {},
   "source": [
    "#### Compute exemplary TIs\n",
    "\n",
    "The most commonly used TIs are the variance and the coefficient of an AR1 regression of the residual. They are both expected to increase whenever a critical transition is near. Let's compute them and see what happens!"
   ]
  },
  {
   "cell_type": "code",
   "execution_count": 28,
   "metadata": {},
   "outputs": [
    {
     "ename": "UndefVarError",
     "evalue": "UndefVarError: pwin not defined",
     "output_type": "error",
     "traceback": [
      "UndefVarError: pwin not defined\n",
      "\n",
      "Stacktrace:\n",
      " [1] top-level scope\n",
      "   @ ~/pCloudSync/PhD/Projects/StatisticalEWS/scripts/demo_palma.ipynb:1"
     ]
    }
   ],
   "source": [
    "Xres_cpu = trim_win(X, pwin.N_smooth_wndw) - Xtrend\n",
    "var_cpu = slide_estimator( Xres_cpu, pwin.N_indctr_wndw, variance )\n",
    "ar1_cpu = slide_estimator( Xres_cpu, pwin.N_indctr_wndw, ar1_whitenoise )\n",
    "tindctr = trim_win(ttrend, pwin.N_indctr_wndw)\n",
    "\n",
    "[lines!(axs[2][j], tindctr, ar1_cpu[j, :], label = \"ar1_cpu\") for j in 1:ncols]\n",
    "[ylims!(axs[2][i], (-.1, 1)) for i in 1:ncols]\n",
    "[lines!(axs[3][j], tindctr, var_cpu[j, :], label = \"var_cpu\") for j in 1:ncols]\n",
    "fig"
   ]
  },
  {
   "cell_type": "markdown",
   "metadata": {},
   "source": [
    "## Statistical significance\n",
    "\n",
    "As we can observe in the previous plot, the critical transition of the double-well system in fact leads to an increase of the TIs!.. But such an increase also happens on the linear system, where no critical transition is possible. Meh. This means that along with true positives, we also want to get false ones.\n",
    "\n",
    "Our way out of producing false positives is to test statistical significance by:\n",
    "- Generating Fourier surrogates of the time series.\n",
    "- Compute the transition indicator on each of these surrogates.\n",
    "- Compute a metric that renders an increase of this indicator.\n",
    "- Compare the increase metric of our actual time series with the ones computed on the surrogates.\n",
    "\n",
    "The last step allows us to better investigate whether the increase of the TI is an artefact or not.\n",
    "\n",
    "#### Fourier surrogates\n",
    "\n",
    "Getting more data can be expensive (e.g. run a large model) or even barely possible (e.g. gather real-world data of the Earth system). However, (Fourier) surrogates of a given time series can be generated by:\n",
    "- computing the Fourier transform of the time series.\n",
    "- apply a random phase shift to each frequency.\n",
    "- compute the inverse transform of the shifted spectrum.\n",
    "\n",
    "To understand this with a simple example, one can imagine to have a time series x(t) given by:\n",
    "\n",
    "$$ x(t) = \\sin(t) + \\sin(2 \\pi \\, t + \\pi) $$\n",
    "\n",
    "A Fourier surrogate of this could be:\n",
    "\n",
    "$$ x_s(t) = \\sin(t + 0.4 \\, \\pi) + \\sin(2 \\pi \\, t + 2.7 \\, \\pi) $$\n",
    "\n",
    "To generate such surrogates, TransitionIndicators.jl provides a ready-to-use function:"
   ]
  },
  {
   "cell_type": "code",
   "execution_count": 29,
   "metadata": {},
   "outputs": [
    {
     "ename": "UndefVarError",
     "evalue": "UndefVarError: Xres_cpu not defined",
     "output_type": "error",
     "traceback": [
      "UndefVarError: Xres_cpu not defined\n",
      "\n",
      "Stacktrace:\n",
      " [1] top-level scope\n",
      "   @ ~/pCloudSync/PhD/Projects/StatisticalEWS/scripts/demo_palma.ipynb:2"
     ]
    }
   ],
   "source": [
    "ns = 10000\n",
    "Scpu = surrogates2D( fourier_surrogates2D(Xres_cpu, ns)... )"
   ]
  },
  {
   "cell_type": "markdown",
   "metadata": {},
   "source": [
    "#### Compute surrogate TIs\n",
    "\n",
    "We can now perform the computation of the TIs by simply using:"
   ]
  },
  {
   "cell_type": "code",
   "execution_count": 30,
   "metadata": {},
   "outputs": [
    {
     "ename": "UndefVarError",
     "evalue": "UndefVarError: Scpu not defined",
     "output_type": "error",
     "traceback": [
      "UndefVarError: Scpu not defined\n",
      "\n",
      "Stacktrace:\n",
      " [1] top-level scope\n",
      "   @ ~/pCloudSync/PhD/Projects/StatisticalEWS/scripts/demo_palma.ipynb:1"
     ]
    }
   ],
   "source": [
    "STI = slide_estimator( Scpu.S, pwin.N_indctr_wndw, ar1_whitenoise )"
   ]
  },
  {
   "cell_type": "markdown",
   "metadata": {},
   "source": [
    "Ouch. 10 000 surrogates is quite substantial and implies large dimension of the 3D surrogate array which in turn (surprise, surprise) leads to large computational cost. Moreover, the present case handles only two time series but applications sometimes present thousands of them (e.g. resulting from a 100 x 100 2D field). We might need something that scales better!\n",
    "\n",
    "Instead of performing loops, we can transform the whole computation into a sparse array multiplication, which saves a lot of time:"
   ]
  },
  {
   "cell_type": "code",
   "execution_count": 31,
   "metadata": {},
   "outputs": [
    {
     "ename": "UndefVarError",
     "evalue": "UndefVarError: Scpu not defined",
     "output_type": "error",
     "traceback": [
      "UndefVarError: Scpu not defined\n",
      "\n",
      "Stacktrace:\n",
      " [1] top-level scope\n",
      "   @ ~/pCloudSync/PhD/Projects/StatisticalEWS/scripts/demo_palma.ipynb:1"
     ]
    }
   ],
   "source": [
    "STIsp = ar1_whitenoise( Scpu.S, pwin )[:, pwin.N_indctr_wndw+1:end-pwin.N_indctr_wndw+1]"
   ]
  },
  {
   "cell_type": "markdown",
   "metadata": {},
   "source": [
    "#### GPU accelerated TI computation\n",
    "\n",
    "Some operations can be efficiently parallelised on GPUs. For high dimensionality, this can provide a significant speed-up, as e.g.:"
   ]
  },
  {
   "cell_type": "code",
   "execution_count": 32,
   "metadata": {},
   "outputs": [
    {
     "data": {
      "text/plain": [
       "BenchmarkTools.Trial: 336 samples with 1 evaluation.\n",
       " Range \u001b[90m(\u001b[39m\u001b[36m\u001b[1mmin\u001b[22m\u001b[39m … \u001b[35mmax\u001b[39m\u001b[90m):  \u001b[39m\u001b[36m\u001b[1m 8.613 ms\u001b[22m\u001b[39m … \u001b[35m24.235 ms\u001b[39m  \u001b[90m┊\u001b[39m GC \u001b[90m(\u001b[39mmin … max\u001b[90m): \u001b[39m0.00% … 0.00%\n",
       " Time  \u001b[90m(\u001b[39m\u001b[34m\u001b[1mmedian\u001b[22m\u001b[39m\u001b[90m):     \u001b[39m\u001b[34m\u001b[1m14.350 ms              \u001b[22m\u001b[39m\u001b[90m┊\u001b[39m GC \u001b[90m(\u001b[39mmedian\u001b[90m):    \u001b[39m0.00%\n",
       " Time  \u001b[90m(\u001b[39m\u001b[32m\u001b[1mmean\u001b[22m\u001b[39m ± \u001b[32mσ\u001b[39m\u001b[90m):   \u001b[39m\u001b[32m\u001b[1m14.866 ms\u001b[22m\u001b[39m ± \u001b[32m 1.951 ms\u001b[39m  \u001b[90m┊\u001b[39m GC \u001b[90m(\u001b[39mmean ± σ\u001b[90m):  \u001b[39m0.49% ± 2.29%\n",
       "\n",
       "  \u001b[39m \u001b[39m \u001b[39m \u001b[39m \u001b[39m \u001b[39m \u001b[39m \u001b[39m \u001b[39m \u001b[39m \u001b[39m \u001b[39m \u001b[39m \u001b[39m \u001b[39m \u001b[39m \u001b[39m \u001b[39m \u001b[39m \u001b[39m \u001b[39m \u001b[39m▃\u001b[39m▇\u001b[39m█\u001b[34m▆\u001b[39m\u001b[39m▆\u001b[39m▅\u001b[32m▂\u001b[39m\u001b[39m▁\u001b[39m \u001b[39m▂\u001b[39m \u001b[39m \u001b[39m \u001b[39m \u001b[39m \u001b[39m \u001b[39m \u001b[39m \u001b[39m \u001b[39m \u001b[39m \u001b[39m \u001b[39m \u001b[39m \u001b[39m \u001b[39m \u001b[39m \u001b[39m \u001b[39m \u001b[39m \u001b[39m \u001b[39m \u001b[39m \u001b[39m \u001b[39m \u001b[39m \u001b[39m \u001b[39m \u001b[39m \u001b[39m \n",
       "  \u001b[39m▄\u001b[39m▆\u001b[39m▄\u001b[39m▁\u001b[39m▁\u001b[39m▁\u001b[39m▁\u001b[39m▁\u001b[39m▁\u001b[39m▁\u001b[39m▄\u001b[39m▆\u001b[39m▁\u001b[39m▁\u001b[39m▄\u001b[39m▁\u001b[39m▄\u001b[39m▆\u001b[39m▄\u001b[39m▄\u001b[39m▆\u001b[39m█\u001b[39m█\u001b[39m█\u001b[34m█\u001b[39m\u001b[39m█\u001b[39m█\u001b[32m█\u001b[39m\u001b[39m█\u001b[39m▇\u001b[39m█\u001b[39m▇\u001b[39m▆\u001b[39m▁\u001b[39m▆\u001b[39m▇\u001b[39m▇\u001b[39m▆\u001b[39m▇\u001b[39m▇\u001b[39m▇\u001b[39m▁\u001b[39m▁\u001b[39m▇\u001b[39m▄\u001b[39m▄\u001b[39m▁\u001b[39m▆\u001b[39m▁\u001b[39m▇\u001b[39m▆\u001b[39m▇\u001b[39m▁\u001b[39m▁\u001b[39m▁\u001b[39m▄\u001b[39m▄\u001b[39m▁\u001b[39m▄\u001b[39m \u001b[39m▇\n",
       "  8.61 ms\u001b[90m      \u001b[39m\u001b[90mHistogram: \u001b[39m\u001b[90m\u001b[1mlog(\u001b[22m\u001b[39m\u001b[90mfrequency\u001b[39m\u001b[90m\u001b[1m)\u001b[22m\u001b[39m\u001b[90m by time\u001b[39m      22.5 ms \u001b[0m\u001b[1m<\u001b[22m\n",
       "\n",
       " Memory estimate\u001b[90m: \u001b[39m\u001b[33m7.63 MiB\u001b[39m, allocs estimate\u001b[90m: \u001b[39m\u001b[33m2\u001b[39m."
      ]
     },
     "metadata": {},
     "output_type": "display_data"
    }
   ],
   "source": [
    "ntest = 1000\n",
    "Acpu = rand(ntest, ntest)\n",
    "@benchmark $Acpu * $Acpu"
   ]
  },
  {
   "cell_type": "code",
   "execution_count": 33,
   "metadata": {},
   "outputs": [
    {
     "ename": "OutOfGPUMemoryError",
     "evalue": "Out of GPU memory trying to allocate 3.815 MiB\nEffective GPU memory usage: 99.81% (7.780 GiB/7.795 GiB)\nMemory pool usage: 6.687 GiB (6.688 GiB reserved)",
     "output_type": "error",
     "traceback": [
      "Out of GPU memory trying to allocate 3.815 MiB\n",
      "Effective GPU memory usage: 99.81% (7.780 GiB/7.795 GiB)\n",
      "Memory pool usage: 6.687 GiB (6.688 GiB reserved)\n",
      "\n",
      "Stacktrace:\n",
      "  [1] macro expansion\n",
      "    @ ~/.julia/packages/CUDA/DfvRa/src/pool.jl:320 [inlined]\n",
      "  [2] macro expansion\n",
      "    @ ./timing.jl:382 [inlined]\n",
      "  [3] #_alloc#170\n",
      "    @ ~/.julia/packages/CUDA/DfvRa/src/pool.jl:313 [inlined]\n",
      "  [4] #alloc#169\n",
      "    @ ~/.julia/packages/CUDA/DfvRa/src/pool.jl:299 [inlined]\n",
      "  [5] alloc\n",
      "    @ ~/.julia/packages/CUDA/DfvRa/src/pool.jl:293 [inlined]\n",
      "  [6] CuArray{Float32, 2, CUDA.Mem.DeviceBuffer}(#unused#::UndefInitializer, dims::Tuple{Int64, Int64})\n",
      "    @ CUDA ~/.julia/packages/CUDA/DfvRa/src/array.jl:42\n",
      "  [7] similar\n",
      "    @ ~/.julia/packages/CUDA/DfvRa/src/array.jl:166 [inlined]\n",
      "  [8] *\n",
      "    @ ~/.julia/juliaup/julia-1.8.2+0.x64/share/julia/stdlib/v1.8/LinearAlgebra/src/matmul.jl:148 [inlined]\n",
      "  [9] var\"##core#456\"(Agpu#454::CuArray{Float32, 2, CUDA.Mem.DeviceBuffer}, Agpu#455::CuArray{Float32, 2, CUDA.Mem.DeviceBuffer})\n",
      "    @ Main ~/.julia/packages/BenchmarkTools/7xSXH/src/execution.jl:489\n",
      " [10] var\"##sample#457\"(::Tuple{CuArray{Float32, 2, CUDA.Mem.DeviceBuffer}, CuArray{Float32, 2, CUDA.Mem.DeviceBuffer}}, __params::BenchmarkTools.Parameters)\n",
      "    @ Main ~/.julia/packages/BenchmarkTools/7xSXH/src/execution.jl:497\n",
      " [11] _lineartrial(b::BenchmarkTools.Benchmark, p::BenchmarkTools.Parameters; maxevals::Int64, kwargs::Base.Pairs{Symbol, Union{}, Tuple{}, NamedTuple{(), Tuple{}}})\n",
      "    @ BenchmarkTools ~/.julia/packages/BenchmarkTools/7xSXH/src/execution.jl:161\n",
      " [12] _lineartrial(b::BenchmarkTools.Benchmark, p::BenchmarkTools.Parameters)\n",
      "    @ BenchmarkTools ~/.julia/packages/BenchmarkTools/7xSXH/src/execution.jl:152\n",
      " [13] #invokelatest#2\n",
      "    @ ./essentials.jl:729 [inlined]\n",
      " [14] invokelatest\n",
      "    @ ./essentials.jl:726 [inlined]\n",
      " [15] #lineartrial#46\n",
      "    @ ~/.julia/packages/BenchmarkTools/7xSXH/src/execution.jl:35 [inlined]\n",
      " [16] lineartrial\n",
      "    @ ~/.julia/packages/BenchmarkTools/7xSXH/src/execution.jl:35 [inlined]\n",
      " [17] tune!(b::BenchmarkTools.Benchmark, p::BenchmarkTools.Parameters; progressid::Nothing, nleaves::Float64, ndone::Float64, verbose::Bool, pad::String, kwargs::Base.Pairs{Symbol, Union{}, Tuple{}, NamedTuple{(), Tuple{}}})\n",
      "    @ BenchmarkTools ~/.julia/packages/BenchmarkTools/7xSXH/src/execution.jl:251\n",
      " [18] tune! (repeats 2 times)\n",
      "    @ ~/.julia/packages/BenchmarkTools/7xSXH/src/execution.jl:247 [inlined]\n",
      " [19] top-level scope\n",
      "    @ ~/.julia/packages/BenchmarkTools/7xSXH/src/execution.jl:394"
     ]
    }
   ],
   "source": [
    "Agpu = CUDA.rand(ntest, ntest)\n",
    "@benchmark $Agpu * $Agpu"
   ]
  },
  {
   "cell_type": "markdown",
   "metadata": {},
   "source": [
    "For some TIs, a GPU-accelerated version of the computation has been implemented. This is the case for:\n",
    "- Variance\n",
    "- Skewness\n",
    "- Kurtosis\n",
    "- AR1 coefficient with white noise assumption"
   ]
  },
  {
   "cell_type": "code",
   "execution_count": 34,
   "metadata": {},
   "outputs": [
    {
     "ename": "UndefVarError",
     "evalue": "UndefVarError: Scpu not defined",
     "output_type": "error",
     "traceback": [
      "UndefVarError: Scpu not defined\n",
      "\n",
      "Stacktrace:\n",
      " [1] top-level scope\n",
      "   @ ~/pCloudSync/PhD/Projects/StatisticalEWS/scripts/demo_palma.ipynb:1"
     ]
    }
   ],
   "source": [
    "Sgpu = CuArray(Scpu.S)"
   ]
  },
  {
   "cell_type": "code",
   "execution_count": 35,
   "metadata": {},
   "outputs": [
    {
     "ename": "UndefVarError",
     "evalue": "UndefVarError: Sgpu not defined",
     "output_type": "error",
     "traceback": [
      "UndefVarError: Sgpu not defined\n",
      "\n",
      "Stacktrace:\n",
      " [1] top-level scope\n",
      "   @ ~/pCloudSync/PhD/Projects/StatisticalEWS/scripts/demo_palma.ipynb:1"
     ]
    }
   ],
   "source": [
    "M = gpuMask(Sgpu, pwin)"
   ]
  },
  {
   "cell_type": "code",
   "execution_count": 36,
   "metadata": {},
   "outputs": [
    {
     "ename": "UndefVarError",
     "evalue": "UndefVarError: Sgpu not defined",
     "output_type": "error",
     "traceback": [
      "UndefVarError: Sgpu not defined\n",
      "\n",
      "Stacktrace:\n",
      " [1] top-level scope\n",
      "   @ ~/pCloudSync/PhD/Projects/StatisticalEWS/scripts/demo_palma.ipynb:1"
     ]
    }
   ],
   "source": [
    "STIgpu = ar1_whitenoise(Sgpu, M)"
   ]
  },
  {
   "cell_type": "code",
   "execution_count": 37,
   "metadata": {},
   "outputs": [
    {
     "ename": "UndefVarError",
     "evalue": "UndefVarError: STIgpu not defined",
     "output_type": "error",
     "traceback": [
      "UndefVarError: STIgpu not defined\n",
      "\n",
      "Stacktrace:\n",
      " [1] top-level scope\n",
      "   @ ~/pCloudSync/PhD/Projects/StatisticalEWS/scripts/demo_palma.ipynb:1"
     ]
    }
   ],
   "source": [
    "STIgpucpu = Array(STIgpu)[:, pwin.N_indctr_wndw+1:end-pwin.N_indctr_wndw+1]"
   ]
  },
  {
   "cell_type": "code",
   "execution_count": 38,
   "metadata": {},
   "outputs": [
    {
     "ename": "UndefVarError",
     "evalue": "UndefVarError: STI not defined",
     "output_type": "error",
     "traceback": [
      "UndefVarError: STI not defined\n",
      "\n",
      "Stacktrace:\n",
      " [1] top-level scope\n",
      "   @ ~/pCloudSync/PhD/Projects/StatisticalEWS/scripts/demo_palma.ipynb:4"
     ]
    }
   ],
   "source": [
    "i = 2000\n",
    "fig_test = Figure()\n",
    "ax_test = Axis(fig_test[1,1])\n",
    "lines!(ax_test, STI[i, :])\n",
    "lines!(ax_test, STIsp[i, :])\n",
    "lines!(ax_test, STIgpucpu[i, :], linestyle = :dash)\n",
    "xlims!(ax_test, (400, 600))\n",
    "fig_test"
   ]
  },
  {
   "cell_type": "code",
   "execution_count": 39,
   "metadata": {},
   "outputs": [
    {
     "ename": "UndefVarError",
     "evalue": "UndefVarError: STIgpucpu not defined",
     "output_type": "error",
     "traceback": [
      "UndefVarError: STIgpucpu not defined\n",
      "\n",
      "Stacktrace:\n",
      " [1] top-level scope\n",
      "   @ ~/pCloudSync/PhD/Projects/StatisticalEWS/scripts/demo_palma.ipynb:1"
     ]
    }
   ],
   "source": [
    "sum( abs.(STIgpucpu - STI) .> 1f-1 ) # / length(STI)"
   ]
  },
  {
   "cell_type": "markdown",
   "metadata": {},
   "source": [
    "Let's benchmark our solutions, going from worst to best!"
   ]
  },
  {
   "cell_type": "code",
   "execution_count": 40,
   "metadata": {},
   "outputs": [
    {
     "ename": "UndefVarError",
     "evalue": "UndefVarError: Scpu not defined",
     "output_type": "error",
     "traceback": [
      "UndefVarError: Scpu not defined\n",
      "\n",
      "Stacktrace:\n",
      " [1] top-level scope\n",
      "   @ ~/.julia/packages/BenchmarkTools/7xSXH/src/execution.jl:442"
     ]
    }
   ],
   "source": [
    "@benchmark slide_estimator( $Scpu.S, $pwin.N_indctr_wndw, ar1_whitenoise )"
   ]
  },
  {
   "cell_type": "code",
   "execution_count": 41,
   "metadata": {},
   "outputs": [
    {
     "ename": "UndefVarError",
     "evalue": "UndefVarError: Scpu not defined",
     "output_type": "error",
     "traceback": [
      "UndefVarError: Scpu not defined\n",
      "\n",
      "Stacktrace:\n",
      " [1] top-level scope\n",
      "   @ ~/.julia/packages/BenchmarkTools/7xSXH/src/execution.jl:442"
     ]
    }
   ],
   "source": [
    "@benchmark ar1_whitenoise( $Scpu.S, $pwin )"
   ]
  },
  {
   "cell_type": "code",
   "execution_count": 42,
   "metadata": {},
   "outputs": [
    {
     "ename": "UndefVarError",
     "evalue": "UndefVarError: Sgpu not defined",
     "output_type": "error",
     "traceback": [
      "UndefVarError: Sgpu not defined\n",
      "\n",
      "Stacktrace:\n",
      " [1] top-level scope\n",
      "   @ ~/.julia/packages/BenchmarkTools/7xSXH/src/execution.jl:442"
     ]
    }
   ],
   "source": [
    "@benchmark ar1_whitenoise( $Sgpu, $M )"
   ]
  },
  {
   "cell_type": "markdown",
   "metadata": {},
   "source": [
    "On the machine where the code was tested, the CPU function needs about 0.7 seconds to run, whereas the GPU only needs about 0.02 seconds. This leads to a roughly estimated speed-up of factor 35 - take that computational complexity! The absolute values are of course machine-specific and you might observe different ones."
   ]
  },
  {
   "cell_type": "code",
   "execution_count": 43,
   "metadata": {},
   "outputs": [
    {
     "ename": "UndefVarError",
     "evalue": "UndefVarError: M not defined",
     "output_type": "error",
     "traceback": [
      "UndefVarError: M not defined\n",
      "\n",
      "Stacktrace:\n",
      " [1] top-level scope\n",
      "   @ ~/pCloudSync/PhD/Projects/StatisticalEWS/scripts/demo_palma.ipynb:2"
     ]
    }
   ],
   "source": [
    "B = CuArray( reshape(1f0:980f0*2f0, 2, 980) )\n",
    "cumean(B, M, pwin)"
   ]
  }
 ],
 "metadata": {
  "kernelspec": {
   "display_name": "Julia 1.8.2",
   "language": "julia",
   "name": "julia-1.8"
  },
  "language_info": {
   "file_extension": ".jl",
   "mimetype": "application/julia",
   "name": "julia",
   "version": "1.8.2"
  },
  "orig_nbformat": 4
 },
 "nbformat": 4,
 "nbformat_minor": 2
}
